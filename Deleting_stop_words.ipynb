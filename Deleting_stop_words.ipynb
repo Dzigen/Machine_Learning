{
 "cells": [
  {
   "cell_type": "code",
   "execution_count": 2,
   "metadata": {},
   "outputs": [],
   "source": [
    "import pandas as pd\n",
    "import nltk\n",
    "import string\n",
    "import re\n",
    "from nltk.corpus import stopwords"
   ]
  },
  {
   "cell_type": "code",
   "execution_count": 58,
   "metadata": {},
   "outputs": [],
   "source": [
    "train = pd.read_csv('train.csv')\n",
    "train_without_stopwords = pd.DataFrame(columns=['comment', 'toxic'])\n",
    "\n",
    "test = pd.read_csv('test.csv')\n",
    "test_without_stopwords = pd.DataFrame(columns=['comment', 'toxic'])\n"
   ]
  },
  {
   "cell_type": "code",
   "execution_count": 59,
   "metadata": {},
   "outputs": [],
   "source": [
    "def tokenize_me(comment):\n",
    "    tokens =nltk.word_tokenize(comment.lower())\n",
    "    tokens = [i for i in tokens if ( i not in string.punctuation or i in ['!','?','не','-'] not in range(10))]\n",
    "    \n",
    "    stop_words = stopwords.words('russian')\n",
    "    stop_words.extend(['что', 'это', 'так', 'вот', 'быть', 'как', 'в', 'к', 'на'])\n",
    "    \n",
    "    \n",
    "    tokens = [i for i in tokens if ( i not in stop_words)]\n",
    "    tokens = [i.replace(\"«\", \"\").replace(\"»\", \"\") for i in tokens]\n",
    "\n",
    "    st=''\n",
    "    for k in range(len(tokens)):\n",
    "        st+=tokens[k]+' '\n",
    "    \n",
    "    return st.strip()"
   ]
  },
  {
   "cell_type": "code",
   "execution_count": 60,
   "metadata": {},
   "outputs": [],
   "source": [
    "for i in range(train.index.size):\n",
    "    clean_str=tokenize_me(train['comment'][i])\n",
    "    train_without_stopwords=train_without_stopwords.append({'comment':clean_str,'toxic': str(train['toxic'][i])},ignore_index=True)\n",
    "\n",
    "for j in range(test.index.size):\n",
    "    clean_str=tokenize_me(test['comment'][j])\n",
    "    test_without_stopwords=test_without_stopwords.append({'comment': clean_str,'toxic':str(test['toxic'][j])},ignore_index=True)"
   ]
  },
  {
   "cell_type": "code",
   "execution_count": 33,
   "metadata": {},
   "outputs": [],
   "source": [
    "train_without_stopwords.to_csv(path_or_buf='train_without_stopwords.csv', sep=',',index=False)"
   ]
  },
  {
   "cell_type": "code",
   "execution_count": 34,
   "metadata": {},
   "outputs": [],
   "source": [
    "test_without_stopwords.to_csv(path_or_buf='test_without_stopwords.csv', sep=',',index=False)"
   ]
  },
  {
   "cell_type": "code",
   "execution_count": 68,
   "metadata": {
    "scrolled": false
   },
   "outputs": [],
   "source": [
    "with open('train_without_stopwords.txt','w',encoding='utf8') as train_inf:\n",
    "    train_inf.write(\"comment,toxic\"+'\\n')\n",
    "    for i in range(train.index.size):\n",
    "        train_inf.write('\\\"'+train_without_stopwords['comment'][i]+'\\\"'+','+'\\\"'+train_without_stopwords['toxic'][i]+'\\\"'+'\\n')"
   ]
  },
  {
   "cell_type": "code",
   "execution_count": 69,
   "metadata": {},
   "outputs": [],
   "source": [
    "with open('test_without_stopwords.txt','w',encoding='utf8') as test_inf:\n",
    "    test_inf.write(\"comment,toxic\"+'\\n')\n",
    "    for j in range(test.index.size):\n",
    "        test_inf.write('\\\"'+test_without_stopwords['comment'][j]+'\\\"'+','+'\\\"'+test_without_stopwords['toxic'][j]+'\\\"'+'\\n')"
   ]
  },
  {
   "cell_type": "code",
   "execution_count": null,
   "metadata": {},
   "outputs": [],
   "source": []
  }
 ],
 "metadata": {
  "kernelspec": {
   "display_name": "Python 3",
   "language": "python",
   "name": "python3"
  },
  "language_info": {
   "codemirror_mode": {
    "name": "ipython",
    "version": 3
   },
   "file_extension": ".py",
   "mimetype": "text/x-python",
   "name": "python",
   "nbconvert_exporter": "python",
   "pygments_lexer": "ipython3",
   "version": "3.8.3"
  }
 },
 "nbformat": 4,
 "nbformat_minor": 4
}
