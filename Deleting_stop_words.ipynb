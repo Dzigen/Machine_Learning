{
 "cells": [
  {
   "cell_type": "code",
   "execution_count": 1,
   "metadata": {},
   "outputs": [],
   "source": [
    "import pandas as pd\n",
    "import nltk\n",
    "import string\n",
    "import re\n",
    "from nltk.corpus import stopwords"
   ]
  },
  {
   "cell_type": "code",
   "execution_count": 17,
   "metadata": {},
   "outputs": [],
   "source": [
    "train = pd.read_csv('train.csv')\n",
    "train_without_stopwords = pd.DataFrame(columns=['comment', 'toxic'])\n",
    "\n",
    "test = pd.read_csv('test.csv')\n",
    "test_without_stopwords = pd.DataFrame(columns=['comment', 'toxic'])\n"
   ]
  },
  {
   "cell_type": "code",
   "execution_count": 18,
   "metadata": {},
   "outputs": [],
   "source": [
    "def tokenize_me(comment):\n",
    "    tokens =nltk.word_tokenize(comment.lower())\n",
    "    tokens = [i for i in tokens if ( i not in string.punctuation or i in ['!','?','не','-'] not in range(10))]\n",
    "    \n",
    "    stop_words = stopwords.words('russian')\n",
    "    stop_words.extend(['что', 'это', 'так', 'вот', 'быть', 'как', 'в', 'к', 'на'])\n",
    "    \n",
    "    \n",
    "    tokens = [i for i in tokens if ( i not in stop_words)]\n",
    "    tokens = [i.replace(\"«\", \"\").replace(\"»\", \"\") for i in tokens]\n",
    "\n",
    "    st=''\n",
    "    for k in range(len(tokens)):\n",
    "        st+=tokens[k]+' '\n",
    "    \n",
    "    return st.strip()"
   ]
  },
  {
   "cell_type": "code",
   "execution_count": null,
   "metadata": {},
   "outputs": [],
   "source": [
    "for i in range(train.index.size):\n",
    "    clean_str=tokenize_me(train['comment'][i])\n",
    "    train_without_stopwords=train_without_stopwords.append({'comment': clean_str,'toxic': train['toxic'][i]},ignore_index=True)\n",
    " \n",
    "for j in range(test.index.size):\n",
    "    clean_str=tokenize_me(test['comment'][j])\n",
    "    test_without_stopwords=test_without_stopwords.append({'comment': clean_str,'toxic': test['toxic'][j]},ignore_index=True)"
   ]
  },
  {
   "cell_type": "code",
   "execution_count": 15,
   "metadata": {},
   "outputs": [],
   "source": [
    "train_without_stopwords.to_csv(path_or_buf='train_without_stopwords.csv', sep=',',index=False)"
   ]
  },
  {
   "cell_type": "code",
   "execution_count": 9,
   "metadata": {},
   "outputs": [],
   "source": [
    "test_without_stopwords.to_csv(path_or_buf='test_without_stopwords.csv', sep=',',index=False)"
   ]
  },
  {
   "cell_type": "code",
   "execution_count": 16,
   "metadata": {
    "scrolled": true
   },
   "outputs": [
    {
     "data": {
      "text/html": [
       "<div>\n",
       "<style scoped>\n",
       "    .dataframe tbody tr th:only-of-type {\n",
       "        vertical-align: middle;\n",
       "    }\n",
       "\n",
       "    .dataframe tbody tr th {\n",
       "        vertical-align: top;\n",
       "    }\n",
       "\n",
       "    .dataframe thead th {\n",
       "        text-align: right;\n",
       "    }\n",
       "</style>\n",
       "<table border=\"1\" class=\"dataframe\">\n",
       "  <thead>\n",
       "    <tr style=\"text-align: right;\">\n",
       "      <th></th>\n",
       "      <th>comment</th>\n",
       "      <th>toxic</th>\n",
       "    </tr>\n",
       "  </thead>\n",
       "  <tbody>\n",
       "    <tr>\n",
       "      <th>0</th>\n",
       "      <td>парву падлы сопляки драные</td>\n",
       "      <td>1</td>\n",
       "    </tr>\n",
       "    <tr>\n",
       "      <th>1</th>\n",
       "      <td>парву падлы сопляки драные</td>\n",
       "      <td>1</td>\n",
       "    </tr>\n",
       "    <tr>\n",
       "      <th>2</th>\n",
       "      <td>русофобствующих рашников хохлов окатышей - заб...</td>\n",
       "      <td>1</td>\n",
       "    </tr>\n",
       "    <tr>\n",
       "      <th>3</th>\n",
       "      <td>двачую шарит тред закрывать расходитесь щеглы ...</td>\n",
       "      <td>1</td>\n",
       "    </tr>\n",
       "    <tr>\n",
       "      <th>4</th>\n",
       "      <td>доллары перевести пускай запас чёрный день ост...</td>\n",
       "      <td>0</td>\n",
       "    </tr>\n",
       "    <tr>\n",
       "      <th>...</th>\n",
       "      <td>...</td>\n",
       "      <td>...</td>\n",
       "    </tr>\n",
       "    <tr>\n",
       "      <th>45652</th>\n",
       "      <td>вонючий совковый скот прибежал ноет сторонник ...</td>\n",
       "      <td>1</td>\n",
       "    </tr>\n",
       "    <tr>\n",
       "      <th>45653</th>\n",
       "      <td>кого любить ? гоблина тупорылого что-ли ? каку...</td>\n",
       "      <td>1</td>\n",
       "    </tr>\n",
       "    <tr>\n",
       "      <th>45654</th>\n",
       "      <td>посмотрел утомленных солнцем 2. оказалось хоро...</td>\n",
       "      <td>0</td>\n",
       "    </tr>\n",
       "    <tr>\n",
       "      <th>45655</th>\n",
       "      <td>крымотред нарушает правила раздела т.к нем обс...</td>\n",
       "      <td>1</td>\n",
       "    </tr>\n",
       "    <tr>\n",
       "      <th>45656</th>\n",
       "      <td>сих пор пересматриваю видео орамбо кстати свое...</td>\n",
       "      <td>0</td>\n",
       "    </tr>\n",
       "  </tbody>\n",
       "</table>\n",
       "<p>45657 rows × 2 columns</p>\n",
       "</div>"
      ],
      "text/plain": [
       "                                                 comment toxic\n",
       "0                             парву падлы сопляки драные     1\n",
       "1                             парву падлы сопляки драные     1\n",
       "2      русофобствующих рашников хохлов окатышей - заб...     1\n",
       "3      двачую шарит тред закрывать расходитесь щеглы ...     1\n",
       "4      доллары перевести пускай запас чёрный день ост...     0\n",
       "...                                                  ...   ...\n",
       "45652  вонючий совковый скот прибежал ноет сторонник ...     1\n",
       "45653  кого любить ? гоблина тупорылого что-ли ? каку...     1\n",
       "45654  посмотрел утомленных солнцем 2. оказалось хоро...     0\n",
       "45655  крымотред нарушает правила раздела т.к нем обс...     1\n",
       "45656  сих пор пересматриваю видео орамбо кстати свое...     0\n",
       "\n",
       "[45657 rows x 2 columns]"
      ]
     },
     "execution_count": 16,
     "metadata": {},
     "output_type": "execute_result"
    }
   ],
   "source": [
    "train_without_stopwords"
   ]
  },
  {
   "cell_type": "code",
   "execution_count": null,
   "metadata": {},
   "outputs": [],
   "source": []
  }
 ],
 "metadata": {
  "kernelspec": {
   "display_name": "Python 3",
   "language": "python",
   "name": "python3"
  },
  "language_info": {
   "codemirror_mode": {
    "name": "ipython",
    "version": 3
   },
   "file_extension": ".py",
   "mimetype": "text/x-python",
   "name": "python",
   "nbconvert_exporter": "python",
   "pygments_lexer": "ipython3",
   "version": "3.8.3"
  }
 },
 "nbformat": 4,
 "nbformat_minor": 4
}
