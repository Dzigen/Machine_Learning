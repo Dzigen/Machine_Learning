{
 "cells": [
  {
   "cell_type": "code",
   "execution_count": 37,
   "metadata": {},
   "outputs": [],
   "source": [
    "with open(\"labeled.csv\",\"r\",encoding='utf8') as leb:\n",
    "    clear_file=open(\"clear_file.csv\",\"w\",encoding='utf8')   \n",
    "    for line in leb:\n",
    "        if line == \"\\\",1.0\\n\":\n",
    "            clear_file.write(\"\\\",\\\"1\\\"\")\n",
    "        elif line == \"\\\",0.0\\n\":\n",
    "            clear_file.write(\"\\\",\\\"0\\\"\")\n",
    "        else:\n",
    "            index1=line.find(\",0.0\")\n",
    "            index2=line.find(\",1.0\")\n",
    "            \n",
    "            if index1 != -1:\n",
    "                clear_file.write('\\n'+line.strip('\\n')[:index1]+\",\\\"0\\\"\")\n",
    "            elif index2 != -1:\n",
    "                clear_file.write('\\n'+line.strip('\\n')[:index2]+\",\\\"1\\\"\")\n",
    "            else:    \n",
    "                clear_file.write('\\n'+line.strip('\\n'))\n",
    "            \n",
    "    clear_file.close()\n",
    "\n",
    "    \n",
    "with open(\"clear_file.csv\",\"r\",encoding='utf8') as cl_f:\n",
    "    summa=sum(1 for line in open('clear_file.csv', 'r',encoding='utf8'))\n",
    "    max_lines_test=3000\n",
    "    \n",
    "    with open(\"test.csv\",\"w\",encoding='utf8') as test_file:\n",
    "        for i in range(max_lines_test):\n",
    "            string=cl_f.readline()\n",
    "            test_file.write(string)\n",
    "    with open(\"train.csv\",\"w\",encoding='utf8') as train_file:\n",
    "        for i in range(summa-max_lines_test):\n",
    "            string=cl_f.readline()\n",
    "            train_file.write(string)\n"
   ]
  },
  {
   "cell_type": "code",
   "execution_count": null,
   "metadata": {},
   "outputs": [],
   "source": []
  }
 ],
 "metadata": {
  "kernelspec": {
   "display_name": "Python 3",
   "language": "python",
   "name": "python3"
  },
  "language_info": {
   "codemirror_mode": {
    "name": "ipython",
    "version": 3
   },
   "file_extension": ".py",
   "mimetype": "text/x-python",
   "name": "python",
   "nbconvert_exporter": "python",
   "pygments_lexer": "ipython3",
   "version": "3.8.3"
  }
 },
 "nbformat": 4,
 "nbformat_minor": 4
}
